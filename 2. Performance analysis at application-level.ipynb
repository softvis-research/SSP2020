{
 "cells": [
  {
   "cell_type": "markdown",
   "metadata": {},
   "source": [
    "# Performance analysis at application-level"
   ]
  },
  {
   "cell_type": "markdown",
   "metadata": {},
   "source": [
    "## Reproduce number of method calls"
   ]
  },
  {
   "cell_type": "code",
   "execution_count": 32,
   "metadata": {
    "scrolled": true
   },
   "outputs": [
    {
     "data": {
      "text/html": [
       "<div>\n",
       "<style scoped>\n",
       "    .dataframe tbody tr th:only-of-type {\n",
       "        vertical-align: middle;\n",
       "    }\n",
       "\n",
       "    .dataframe tbody tr th {\n",
       "        vertical-align: top;\n",
       "    }\n",
       "\n",
       "    .dataframe thead th {\n",
       "        text-align: right;\n",
       "    }\n",
       "</style>\n",
       "<table border=\"1\" class=\"dataframe\">\n",
       "  <thead>\n",
       "    <tr style=\"text-align: right;\">\n",
       "      <th></th>\n",
       "      <th>methodCalls</th>\n",
       "    </tr>\n",
       "  </thead>\n",
       "  <tbody>\n",
       "    <tr>\n",
       "      <th>0</th>\n",
       "      <td>2409688701</td>\n",
       "    </tr>\n",
       "  </tbody>\n",
       "</table>\n",
       "</div>"
      ],
      "text/plain": [
       "   methodCalls\n",
       "0   2409688701"
      ]
     },
     "execution_count": 32,
     "metadata": {},
     "output_type": "execute_result"
    }
   ],
   "source": [
    "import py2neo\n",
    "import pandas as pd\n",
    "\n",
    "# establish connection to Neo4j database with performance data\n",
    "graph = py2neo.Graph(bolt=True, host='localhost')\n",
    "\n",
    "# create cypher query to get the total number of method calls\n",
    "query_method_calls =\"\"\"\n",
    "MATCH (method1:Method)-[calls:CALLS]->(method2:Method)\n",
    "RETURN SUM(calls.weight) AS methodCalls\n",
    "\"\"\"\n",
    "\n",
    "# execute query and store result in a dataframe\n",
    "df_method_calls = pd.DataFrame(graph.run(query_method_calls).data())\n",
    "\n",
    "# print out the total number of method calls (2,409,688,701)\n",
    "df_method_calls.head()"
   ]
  },
  {
   "cell_type": "markdown",
   "metadata": {},
   "source": [
    "## Reproduce weighted dynamic dependency graph on class level"
   ]
  },
  {
   "cell_type": "code",
   "execution_count": 33,
   "metadata": {},
   "outputs": [
    {
     "name": "stdout",
     "output_type": "stream",
     "text": [
      "370821.0\n"
     ]
    }
   ],
   "source": [
    "# create cypher query to calculate import, export, and combined coupling degrees\n",
    "# derived from the weighted dynamic dependency graph on class level\n",
    "query_c_w =\"\"\"\n",
    "MATCH (type:Type:Kieker)\n",
    "WHERE ((type)-[:DEPENDS_ON]->(:Type:Kieker) OR (:Type:Kieker)-[:DEPENDS_ON]->(type))\n",
    "WITH type\n",
    "OPTIONAL MATCH (type)-[out:DEPENDS_ON]->(:Type:Kieker)\n",
    "WITH type, SUM(out.weight) AS import\n",
    "OPTIONAL MATCH (:Type:Kieker)-[in:DEPENDS_ON]->(type)\n",
    "WITH type.fqn AS class, import, SUM(in.weight) as export\n",
    "RETURN class, import, export, (import+export) AS combined\n",
    "ORDER BY class\n",
    "\"\"\"\n",
    "\n",
    "# execute query and store result in a dataframe\n",
    "df_c_w = pd.DataFrame(graph.run(query_c_w).data())\n",
    "\n",
    "# print out the average export coupling degree on class level (370,821)\n",
    "print(round(df_c_w[\"export\"].mean()))"
   ]
  },
  {
   "cell_type": "markdown",
   "metadata": {},
   "source": [
    "## Reproduce weighted dynamic dependency graph on package level"
   ]
  },
  {
   "cell_type": "code",
   "execution_count": 39,
   "metadata": {},
   "outputs": [
    {
     "name": "stdout",
     "output_type": "stream",
     "text": [
      "1868664.0\n"
     ]
    }
   ],
   "source": [
    "# create cypher query to calculate import, export, and combined coupling degrees\n",
    "# derived from the weighted dynamic dependency graph on package level\n",
    "query_p_w =\"\"\"\n",
    "MATCH (package:Package:Kieker)\n",
    "WHERE ((package)-[:DEPENDS_ON]->(:Package:Kieker) OR (:Package:Kieker)-[:DEPENDS_ON]->(package))\n",
    "WITH package\n",
    "OPTIONAL MATCH (package)-[out:DEPENDS_ON]->(:Package:Kieker)\n",
    "WITH package, SUM(out.weight) AS import\n",
    "OPTIONAL MATCH (:Package:Kieker)-[in:DEPENDS_ON]->(package)\n",
    "WITH package.fqn AS package, import, SUM(in.weight) as export\n",
    "RETURN package, import, export, (import+export) AS combined\n",
    "ORDER BY package\n",
    "\"\"\"\n",
    "\n",
    "# execute query and store result in a dataframe\n",
    "df_p_w = pd.DataFrame(graph.run(query_p_w).data())\n",
    "\n",
    "# print out the average export coupling degree on package level (1,868,664)\n",
    "print(round(df_p_w[\"export\"].mean()))"
   ]
  },
  {
   "cell_type": "code",
   "execution_count": null,
   "metadata": {},
   "outputs": [],
   "source": []
  }
 ],
 "metadata": {
  "kernelspec": {
   "display_name": "Python [conda env:SVIS]",
   "language": "python",
   "name": "conda-env-SVIS-py"
  },
  "language_info": {
   "codemirror_mode": {
    "name": "ipython",
    "version": 3
   },
   "file_extension": ".py",
   "mimetype": "text/x-python",
   "name": "python",
   "nbconvert_exporter": "python",
   "pygments_lexer": "ipython3",
   "version": "3.6.5"
  }
 },
 "nbformat": 4,
 "nbformat_minor": 2
}
