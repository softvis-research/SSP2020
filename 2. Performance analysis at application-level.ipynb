{
 "cells": [
  {
   "cell_type": "markdown",
   "metadata": {},
   "source": [
    "# Performance analysis at application-level"
   ]
  },
  {
   "cell_type": "markdown",
   "metadata": {},
   "source": [
    "## Reproduce number of method calls"
   ]
  },
  {
   "cell_type": "code",
   "execution_count": null,
   "metadata": {
    "scrolled": true
   },
   "outputs": [],
   "source": [
    "import py2neo\n",
    "import pandas as pd\n",
    "\n",
    "# establish connection to Neo4j database with performance data\n",
    "graph = py2neo.Graph(bolt=True, host='localhost', user='neo4j', password = 'neo4j')\n",
    "\n",
    "# create cypher query to get the total number of method calls\n",
    "query_method_calls =\"\"\"\n",
    "MATCH (:Method:Kieker)-[calls:CALLS]->(:Method:Kieker)\n",
    "RETURN SUM(calls.weight) AS methodCalls\n",
    "\"\"\"\n",
    "\n",
    "# execute query and store result in a dataframe\n",
    "df_method_calls = pd.DataFrame(graph.run(query_method_calls).data())\n",
    "\n",
    "# print out the total number of method calls (2,409,688,701)\n",
    "df_method_calls.head()"
   ]
  },
  {
   "cell_type": "markdown",
   "metadata": {},
   "source": [
    "## Reproduce weighted dynamic dependency graph on class level"
   ]
  },
  {
   "cell_type": "code",
   "execution_count": null,
   "metadata": {},
   "outputs": [],
   "source": [
    "# create cypher query to calculate import, export, and combined coupling degrees\n",
    "# derived from the weighted dynamic dependency graph on class level\n",
    "query_c_w =\"\"\"\n",
    "MATCH (t:Type:Kieker)\n",
    "WHERE (t)-[:DEPENDS_ON]->() OR ()-[:DEPENDS_ON]->(t)\n",
    "WITH t\n",
    "OPTIONAL MATCH (t)-[out:DEPENDS_ON]->()\n",
    "WITH t, SUM(out.weight) AS import\n",
    "OPTIONAL MATCH ()-[in:DEPENDS_ON]->(t)\n",
    "WITH t, import, SUM(in.weight) as export\n",
    "RETURN ROUND(AVG(export)) AS averageExport\n",
    "\"\"\"\n",
    "\n",
    "# execute query and store result in a dataframe\n",
    "df_c_w = pd.DataFrame(graph.run(query_c_w).data())\n",
    "\n",
    "# print out the average export coupling degree on class level (370,821)\n",
    "df_c_w.head()"
   ]
  },
  {
   "cell_type": "markdown",
   "metadata": {},
   "source": [
    "## Reproduce weighted dynamic dependency graph on package level"
   ]
  },
  {
   "cell_type": "code",
   "execution_count": null,
   "metadata": {},
   "outputs": [],
   "source": [
    "# create cypher query to calculate import, export, and combined coupling degrees\n",
    "# derived from the weighted dynamic dependency graph on package level\n",
    "query_p_w =\"\"\"\n",
    "MATCH (p:Package:Kieker)\n",
    "WHERE (p)-[:DEPENDS_ON]->() OR ()-[:DEPENDS_ON]->(p)\n",
    "WITH p\n",
    "OPTIONAL MATCH (p)-[out:DEPENDS_ON]->()\n",
    "WITH p, SUM(out.weight) AS import\n",
    "OPTIONAL MATCH ()-[in:DEPENDS_ON]->(p)\n",
    "WITH p, import, SUM(in.weight) as export\n",
    "RETURN ROUND(AVG(export)) AS averageExport\n",
    "\"\"\"\n",
    "\n",
    "# execute query and store result in a dataframe\n",
    "df_p_w = pd.DataFrame(graph.run(query_p_w).data())\n",
    "\n",
    "# print out the average export coupling degree on package level (1,868,664)\n",
    "df_p_w.head()"
   ]
  },
  {
   "cell_type": "code",
   "execution_count": null,
   "metadata": {},
   "outputs": [],
   "source": []
  },
  {
   "cell_type": "code",
   "execution_count": null,
   "metadata": {},
   "outputs": [],
   "source": []
  }
 ],
 "metadata": {
  "kernelspec": {
   "display_name": "Python [conda env:SVIS]",
   "language": "python",
   "name": "conda-env-SVIS-py"
  },
  "language_info": {
   "codemirror_mode": {
    "name": "ipython",
    "version": 3
   },
   "file_extension": ".py",
   "mimetype": "text/x-python",
   "name": "python",
   "nbconvert_exporter": "python",
   "pygments_lexer": "ipython3",
   "version": "3.6.5"
  }
 },
 "nbformat": 4,
 "nbformat_minor": 2
}
