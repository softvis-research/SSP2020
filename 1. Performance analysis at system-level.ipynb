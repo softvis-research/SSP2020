{
 "cells": [
  {
   "cell_type": "markdown",
   "metadata": {},
   "source": [
    "# Performance analysis at system-level"
   ]
  },
  {
   "cell_type": "markdown",
   "metadata": {},
   "source": [
    "## Database connection\n",
    "Establish connection to neo4j database with performance data."
   ]
  },
  {
   "cell_type": "code",
   "execution_count": 15,
   "metadata": {
    "pycharm": {
     "name": "#%%\n"
    }
   },
   "outputs": [],
   "source": [
    "import py2neo\n",
    "\n",
    "graph = py2neo.Graph(bolt=True, host='localhost', user='neo4j', password = 'neo4j')\n"
   ]
  },
  {
   "cell_type": "markdown",
   "metadata": {},
   "source": [
    "## Cypher query\n",
    "Cypher queries are executed to get CPU and memory utilization data. The results are stored in dataframes."
   ]
  },
  {
   "cell_type": "code",
   "execution_count": 16,
   "metadata": {
    "pycharm": {
     "name": "#%%\n"
    }
   },
   "outputs": [
    {
     "name": "stdout",
     "output_type": "stream",
     "text": [
      "             timestamp cpuID  cpuUtilization\n",
      "3  1440053345612101780     1       24.261603\n",
      "4  1440053355611996675     0        3.600000\n",
      "5  1440053355612055040     1        4.609218\n",
      "6  1440053365611980343     0        0.500501\n",
      "7  1440053365612037995     1        0.800801\n"
     ]
    }
   ],
   "source": [
    "import pandas as pd\n",
    "\n",
    "# one query each for CPU and memory\n",
    "cpu_query = \"\"\"\n",
    "MATCH (r:Record)-[:CONTAINS]->(c:CpuUtilization)\n",
    "WHERE r.fileName =~ '.*/1-MemoryLeak-5/kieker-logs/kieker-20150820-064855519-UTC-middletier2-KIEKER'\n",
    "RETURN c.timestamp AS timestamp, c.cpuID AS cpuID, c.totalUtilization * 100 AS cpuUtilization\n",
    "ORDER BY timestamp\n",
    "\"\"\"\n",
    "df = pd.DataFrame(graph.run(cpu_query).data())\n",
    "# drop first and last measurements to sanitize data\n",
    "df.drop(df.head(3).index, inplace=True)\n",
    "df.drop(df.tail(5).index, inplace=True)\n",
    "print(df.head())\n",
    "\n",
    "mem_query = \"\"\"\n",
    "MATCH (r:Record)-[:CONTAINS]->(m:MemSwapUsage)\n",
    "WHERE r.fileName =~ '.*/1-MemoryLeak-5/kieker-logs/kieker-20150820-064855519-UTC-middletier2-KIEKER'\n",
    "RETURN m.timestamp AS timestamp, toFloat(m.memUsed)*100 / toFloat(m.memTotal) AS memoryUtilization\n",
    "ORDER BY timestamp\n",
    "\"\"\"\n",
    "df_mem = pd.DataFrame(graph.run(mem_query).data())\n",
    "# drop first and last measurements to sanitize data\n",
    "df_mem.drop(df_mem.head(3).index, inplace=True)\n",
    "df_mem.drop(df_mem.tail(5).index, inplace=True)"
   ]
  },
  {
   "cell_type": "markdown",
   "metadata": {},
   "source": [
    "## Analysis and Visualization\n",
    "The data is analyzed, merged and visualized. The timestamps only differ in the microseconds.\n",
    "\n",
    "They are rounded to the nearest second to allow the merge of the dataframes."
   ]
  },
  {
   "cell_type": "code",
   "execution_count": 17,
   "metadata": {
    "pycharm": {
     "name": "#%%\n"
    }
   },
   "outputs": [],
   "source": [
    "# round up to the nearest second to later merge the dataframes\n",
    "df['timestamp'] = pd.to_datetime(df['timestamp'])\n",
    "df['timestamp'] = df['timestamp'].dt.round('1s')\n",
    "df['CPU ID'] = pd.to_numeric(df['cpuID'])\n",
    "# get the mean utilization of every CPU core\n",
    "df = df.groupby(['timestamp']).mean()\n",
    "df = df.drop('CPU ID', 1)\n",
    "\n",
    "df_mem['timestamp'] = pd.to_datetime(df_mem['timestamp'])\n",
    "df_mem['timestamp'] = df_mem['timestamp'].dt.round('1s')\n",
    "df_mem.set_index('timestamp', inplace=True)\n",
    "\n",
    "# merge the dataframes\n",
    "df = df.merge(df_mem, left_on='timestamp', right_on='timestamp')"
   ]
  },
  {
   "cell_type": "code",
   "execution_count": 18,
   "metadata": {
    "pycharm": {
     "name": "#%%\n"
    }
   },
   "outputs": [
    {
     "data": {
      "text/plain": "                     cpuUtilization  memoryUtilization\ntimestamp                                             \n2015-08-20 06:49:26        0.650651          41.020209\n2015-08-20 06:49:36        0.949251          41.007907\n2015-08-20 06:49:46        1.002306          41.007490\n2015-08-20 06:49:56        7.204219          41.163040\n2015-08-20 06:50:06        1.151151          41.151155",
      "text/html": "<div>\n<style scoped>\n    .dataframe tbody tr th:only-of-type {\n        vertical-align: middle;\n    }\n\n    .dataframe tbody tr th {\n        vertical-align: top;\n    }\n\n    .dataframe thead th {\n        text-align: right;\n    }\n</style>\n<table border=\"1\" class=\"dataframe\">\n  <thead>\n    <tr style=\"text-align: right;\">\n      <th></th>\n      <th>cpuUtilization</th>\n      <th>memoryUtilization</th>\n    </tr>\n    <tr>\n      <th>timestamp</th>\n      <th></th>\n      <th></th>\n    </tr>\n  </thead>\n  <tbody>\n    <tr>\n      <th>2015-08-20 06:49:26</th>\n      <td>0.650651</td>\n      <td>41.020209</td>\n    </tr>\n    <tr>\n      <th>2015-08-20 06:49:36</th>\n      <td>0.949251</td>\n      <td>41.007907</td>\n    </tr>\n    <tr>\n      <th>2015-08-20 06:49:46</th>\n      <td>1.002306</td>\n      <td>41.007490</td>\n    </tr>\n    <tr>\n      <th>2015-08-20 06:49:56</th>\n      <td>7.204219</td>\n      <td>41.163040</td>\n    </tr>\n    <tr>\n      <th>2015-08-20 06:50:06</th>\n      <td>1.151151</td>\n      <td>41.151155</td>\n    </tr>\n  </tbody>\n</table>\n</div>"
     },
     "execution_count": 18,
     "metadata": {},
     "output_type": "execute_result"
    }
   ],
   "source": [
    "df.head()"
   ]
  },
  {
   "cell_type": "code",
   "execution_count": 19,
   "metadata": {
    "pycharm": {
     "name": "#%%\n"
    }
   },
   "outputs": [
    {
     "data": {
      "text/plain": "<Figure size 432x288 with 1 Axes>",
      "image/png": "[encoded data removed]"
     },
     "metadata": {
      "needs_background": "light"
     },
     "output_type": "display_data"
    }
   ],
   "source": [
    "import matplotlib.pyplot as plt\n",
    "\n",
    "# get the average of 7 measurements to sanitize the data\n",
    "df_cpu_plot = df.rolling(7).mean()\n",
    "df_cpu_plot = df_cpu_plot.iloc[::7, :]\n",
    "\n",
    "# label and style the plot\n",
    "plt.plot_date(df_cpu_plot.index, df_cpu_plot['cpuUtilization'], fmt='-', color='#00035b')\n",
    "plt.title('CPU utilization (%)')\n",
    "plt.ylim(-2.5, 102.5)\n",
    "plt.grid(linestyle=':')\n",
    "\n",
    "# fill in the data\n",
    "date_list = pd.date_range(start=df.index[0], end=df.index[-1], periods=7).tolist()\n",
    "# As we don't know the time zone, we choose the time that makes the most sense\n",
    "plt.xticks(date_list + ['2015-08-20 08:05'], ['', '', '', '', '', '', '', '4:05 PM'])\n",
    "plt.yticks([0.0, 20.0, 40.0, 60.0, 80.0, 100.0], ['0.0', '', '', '', '', '100.0'])\n",
    "plt.axvline('2015-08-20 08:05', color='black', label='4:05 PM', linestyle='--')\n",
    "plt.setp(plt.gca().xaxis.get_majorticklabels(), 'rotation', 0)\n",
    "# uncomment to save the plot as a pdf\n",
    "# plt.savefig('cpu_plot.pdf')\n",
    "plt.show()"
   ]
  },
  {
   "cell_type": "code",
   "execution_count": 20,
   "metadata": {
    "pycharm": {
     "name": "#%%\n"
    }
   },
   "outputs": [
    {
     "data": {
      "text/plain": "<Figure size 432x288 with 1 Axes>",
      "image/png": "[encoded data removed]"
     },
     "metadata": {
      "needs_background": "light"
     },
     "output_type": "display_data"
    }
   ],
   "source": [
    "# get the average of 7 measurements to sanitize the data\n",
    "df_mem_plot = df.rolling(7).mean()\n",
    "df_mem_plot = df_mem_plot.iloc[::7, :]\n",
    "\n",
    "# label and style the plot\n",
    "plt.plot_date(df_mem_plot.index, df_mem_plot['memoryUtilization'], fmt='-', color='#00035b')\n",
    "plt.title('Memory utilization (%)')\n",
    "plt.ylim(-2.5, 102.5)\n",
    "plt.grid(linestyle=':')\n",
    "\n",
    "# fill in the data\n",
    "date_list = pd.date_range(start=df.index[0], end=df.index[-1], periods=7).tolist()\n",
    "plt.xticks(date_list + ['2015-08-20 08:00'], ['', '', '', '', '', '', '', '4:00 PM'])\n",
    "plt.yticks([0.0, 20.0, 40.0, 60.0, 80.0, 100.0], ['0.0', '', '', '', '', '100.0'])\n",
    "plt.axvline('2015-08-20 08:00', color='black', label='4:00 PM', linestyle='--')\n",
    "plt.setp(plt.gca().xaxis.get_majorticklabels(), 'rotation', 0)\n",
    "# uncomment to save the plot as a pdf\n",
    "# plt.savefig('mem_plot.pdf')\n",
    "plt.show()"
   ]
  }
 ],
 "metadata": {
  "kernelspec": {
   "display_name": "Python [default]",
   "language": "python",
   "name": "python3"
  },
  "language_info": {
   "codemirror_mode": {
    "name": "ipython",
    "version": 3
   },
   "file_extension": ".py",
   "mimetype": "text/x-python",
   "name": "python",
   "nbconvert_exporter": "python",
   "pygments_lexer": "ipython3",
   "version": "3.6.5"
  }
 },
 "nbformat": 4,
 "nbformat_minor": 2
}