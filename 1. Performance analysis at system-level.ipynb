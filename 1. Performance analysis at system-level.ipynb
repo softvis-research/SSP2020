{
 "cells": [
  {
   "cell_type": "markdown",
   "metadata": {},
   "source": [
    "# Performance analysis at system-level\n"
   ]
  },
  {
   "cell_type": "markdown",
   "metadata": {
    "pycharm": {
     "name": "#%% md\n"
    }
   },
   "source": [
    "## Reproduce line chart for CPU utiliztion\n"
   ]
  },
  {
   "cell_type": "code",
   "execution_count": null,
   "metadata": {
    "pycharm": {
     "name": "#%%\n"
    }
   },
   "outputs": [],
   "source": [
    "import py2neo\n",
    "import pandas as pd\n",
    "import matplotlib.pyplot as plt\n",
    "\n",
    "graph = py2neo.Graph(bolt=True, host='localhost', user='neo4j', password = 'neo4j')\n",
    "\n",
    "# query for CPU measurements\n",
    "cpu_query = \"\"\"\n",
    "MATCH (r:Record)-[:CONTAINS]->(c:CpuUtilization)\n",
    "WHERE r.fileName =~ '.*/1-MemoryLeak-5/kieker-logs/kieker-20150820-064855519-UTC-middletier2-KIEKER'\n",
    "RETURN c.timestamp AS timestamp, c.cpuID AS cpuID, c.totalUtilization * 100 AS cpuUtilization\n",
    "ORDER BY timestamp\n",
    "\"\"\"\n",
    "df = pd.DataFrame(graph.run(cpu_query).data())\n",
    "# drop first and last measurements to sanitize data\n",
    "df.drop(df.head(3).index, inplace=True)\n",
    "df.drop(df.tail(5).index, inplace=True)\n",
    "\n",
    "# cast to datetime and round up to the nearest second\n",
    "df['timestamp'] = pd.to_datetime(df['timestamp'])\n",
    "df['timestamp'] = df['timestamp'].dt.round('1s')\n",
    "df['CPU ID'] = pd.to_numeric(df['cpuID'])\n",
    "# get the mean utilization of every CPU core\n",
    "df = df.groupby(['timestamp']).mean()\n",
    "df = df.drop('CPU ID', 1)\n",
    "\n",
    "# get the average of 7 measurements to sanitize the data\n",
    "df_cpu_plot = df.rolling(7).mean()\n",
    "df_cpu_plot = df_cpu_plot.iloc[::7, :]\n",
    "\n",
    "# label and style the plot\n",
    "plt.plot_date(df_cpu_plot.index, df_cpu_plot['cpuUtilization'], fmt='-', color='#00035b')\n",
    "plt.title('CPU utilization (%)')\n",
    "plt.ylim(-2.5, 102.5)\n",
    "plt.grid(linestyle=':')\n",
    "\n",
    "# fill in the data\n",
    "date_list = pd.date_range(start=df.index[0], end=df.index[-1], periods=7).tolist()\n",
    "# As we don't know the time zone, we choose the time that makes the most sense\n",
    "plt.xticks(date_list + ['2015-08-20 08:05'], ['', '', '', '', '', '', '', '4:05 PM'])\n",
    "plt.yticks([0.0, 20.0, 40.0, 60.0, 80.0, 100.0], ['0.0', '', '', '', '', '100.0'])\n",
    "plt.axvline('2015-08-20 08:05', color='black', label='4:05 PM', linestyle='--')\n",
    "plt.setp(plt.gca().xaxis.get_majorticklabels(), 'rotation', 0)\n",
    "# uncomment to save the plot as a pdf\n",
    "# plt.savefig('cpu_plot.pdf')\n",
    "plt.show()"
   ]
  },
  {
   "cell_type": "markdown",
   "metadata": {},
   "source": [
    "## Reproduce line chart for memory utilization\n"
   ]
  },
  {
   "cell_type": "code",
   "execution_count": null,
   "metadata": {
    "pycharm": {
     "name": "#%%\n"
    }
   },
   "outputs": [],
   "source": [
    "# query for memory measurements\n",
    "mem_query = \"\"\"\n",
    "MATCH (r:Record)-[:CONTAINS]->(m:MemSwapUsage)\n",
    "WHERE r.fileName =~ '.*/1-MemoryLeak-5/kieker-logs/kieker-20150820-064855519-UTC-middletier2-KIEKER'\n",
    "RETURN m.timestamp AS timestamp, toFloat(m.memUsed)*100.0 / toFloat(m.memTotal) AS memoryUtilization\n",
    "ORDER BY timestamp\n",
    "\"\"\"\n",
    "df_mem = pd.DataFrame(graph.run(mem_query).data())\n",
    "# drop first and last measurements to sanitize data\n",
    "df_mem.drop(df_mem.head(3).index, inplace=True)\n",
    "df_mem.drop(df_mem.tail(5).index, inplace=True)\n",
    "\n",
    "# cast to datetime and round up to the nearest second\n",
    "df_mem['timestamp'] = pd.to_datetime(df_mem['timestamp'])\n",
    "df_mem['timestamp'] = df_mem['timestamp'].dt.round('1s')\n",
    "df_mem.set_index('timestamp', inplace=True)\n",
    "\n",
    "# get the average of 10 measurements to sanitize the data\n",
    "df_mem_plot = df_mem.rolling(7).mean()\n",
    "df_mem_plot = df_mem_plot.iloc[::7, :]\n",
    "\n",
    "# label and style the plot\n",
    "plt.plot_date(df_mem_plot.index, df_mem_plot['memoryUtilization'], fmt='-', color='#00035b')\n",
    "plt.title('Memory utilization (%)')\n",
    "plt.ylim(-2.5, 102.5)\n",
    "plt.grid(linestyle=':')\n",
    "\n",
    "# fill in the data\n",
    "date_list = pd.date_range(start=df.index[0], end=df.index[-1], periods=7).tolist()\n",
    "plt.xticks(date_list + ['2015-08-20 07:55'], ['', '', '', '', '', '', '', '3:55 PM'])\n",
    "plt.yticks([0.0, 20.0, 40.0, 60.0, 80.0, 100.0], ['0.0', '', '', '', '', '100.0'])\n",
    "plt.axvline('2015-08-20 07:55', color='black', label='3:55 PM', linestyle='--')\n",
    "plt.setp(plt.gca().xaxis.get_majorticklabels(), 'rotation', 0)\n",
    "# uncomment to save the plot as a pdf\n",
    "# plt.savefig('mem_plot.pdf')\n",
    "plt.show()"
   ]
  },
  {
   "cell_type": "code",
   "execution_count": null,
   "metadata": {},
   "outputs": [],
   "source": []
  }
 ],
 "metadata": {
  "kernelspec": {
   "display_name": "Python [default]",
   "language": "python",
   "name": "python3"
  },
  "language_info": {
   "codemirror_mode": {
    "name": "ipython",
    "version": 3
   },
   "file_extension": ".py",
   "mimetype": "text/x-python",
   "name": "python",
   "nbconvert_exporter": "python",
   "pygments_lexer": "ipython3",
   "version": "3.6.5"
  }
 },
 "nbformat": 4,
 "nbformat_minor": 2
}
