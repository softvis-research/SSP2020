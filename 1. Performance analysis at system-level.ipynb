{
 "cells": [
  {
   "cell_type": "markdown",
   "metadata": {},
   "source": [
    "# Performance analysis at system-level"
   ]
  },
  {
   "cell_type": "markdown",
   "metadata": {},
   "source": [
    "## Database connection\n",
    "Establish connection to neo4j database with performance data."
   ]
  },
  {
   "cell_type": "code",
   "execution_count": null,
   "metadata": {
    "pycharm": {
     "name": "#%%\n"
    }
   },
   "outputs": [],
   "source": [
    "import py2neo\n",
    "\n",
    "graph = py2neo.Graph(bolt=True, host='localhost', user='neo4j', password = 'neo4j')\n"
   ]
  },
  {
   "cell_type": "markdown",
   "metadata": {},
   "source": [
    "## Cypher query\n",
    "Cypher queries are executed to get CPU and memory utilization data. The results are stored in dataframes."
   ]
  },
  {
   "cell_type": "code",
   "execution_count": null,
   "metadata": {
    "pycharm": {
     "name": "#%%\n"
    }
   },
   "outputs": [],
   "source": [
    "import pandas as pd\n",
    "\n",
    "cpu_query =\"\"\"\n",
    "MATCH (n:Record)-[:CONTAINS]->(c:CpuUtilization)\n",
    "WHERE n.fileName =~ '.*/1-MemoryLeak-5/kieker-logs/kieker-20150820-064855519-UTC-middletier2-KIEKER'\n",
    "RETURN c.timestamp, c.cpuID, c.totalUtilization*100\n",
    "ORDER BY c.timestamp\n",
    "\"\"\"\n",
    "df = pd.DataFrame(graph.run(cpu_query).data())\n",
    "df = df.rename(columns={\"c.timestamp\": \"Timestamp\",\n",
    "                        \"c.cpuID\": \"CPU ID\",\n",
    "                        \"c.totalUtilization*100\": \"CPU Utilization\"})\n",
    "df.drop(df.head(3).index, inplace=True)\n",
    "df.drop(df.tail(5).index, inplace=True)\n",
    "print(df.head())\n",
    "\n",
    "mem_query =\"\"\"\n",
    "MATCH (n:Record)-[:CONTAINS]->(m:MemSwapUsage)\n",
    "WHERE n.fileName =~ '.*/1-MemoryLeak-5/kieker-logs/kieker-20150820-064855519-UTC-middletier2-KIEKER'\n",
    "RETURN m.timestamp, toFloat(m.memUsed)*100 / toFloat(m.memTotal)\n",
    "ORDER BY m.timestamp\n",
    "\"\"\"\n",
    "df_mem = pd.DataFrame(graph.run(mem_query).data())\n",
    "df_mem = df_mem.rename(columns={\"m.timestamp\": \"Timestamp\",\n",
    "                                \"toFloat(m.memUsed)*100 / toFloat(m.memTotal)\": \"Memory Utilization\"})\n",
    "df_mem.drop(df_mem.head(3).index, inplace=True)\n",
    "df_mem.drop(df_mem.tail(5).index, inplace=True)"
   ]
  },
  {
   "cell_type": "markdown",
   "metadata": {},
   "source": [
    "## Analysis and Visualization\n",
    "The data is analyzed, merged and visualized. The timestamps only differ in the microseconds.\n",
    "\n",
    "They are rounded to the nearest second to allow the merge of the dataframes."
   ]
  },
  {
   "cell_type": "code",
   "execution_count": null,
   "metadata": {
    "pycharm": {
     "name": "#%%\n"
    }
   },
   "outputs": [],
   "source": [
    "df['Timestamp'] = pd.to_datetime(df['Timestamp'])\n",
    "df['Timestamp'] = df['Timestamp'].dt.round('1s')\n",
    "df['CPU ID'] = pd.to_numeric(df['CPU ID'])\n",
    "df = df.groupby(['Timestamp']).mean()\n",
    "df = df.drop('CPU ID', 1)\n",
    "\n",
    "df_mem['Timestamp'] = pd.to_datetime(df_mem['Timestamp'])\n",
    "df_mem['Timestamp'] = df_mem['Timestamp'].dt.round('1s')\n",
    "df_mem.set_index('Timestamp', inplace=True)\n",
    "\n",
    "df = df.merge(df_mem, left_on='Timestamp', right_on='Timestamp')"
   ]
  },
  {
   "cell_type": "code",
   "execution_count": null,
   "metadata": {
    "pycharm": {
     "name": "#%%\n"
    }
   },
   "outputs": [],
   "source": [
    "df.head()"
   ]
  },
  {
   "cell_type": "code",
   "execution_count": null,
   "metadata": {
    "pycharm": {
     "name": "#%%\n"
    }
   },
   "outputs": [],
   "source": [
    "import matplotlib.pyplot as plt\n",
    "\n",
    "df_cpu_plot = df.rolling(7).mean()\n",
    "df_cpu_plot = df_cpu_plot.iloc[::7, :]\n",
    "\n",
    "plt.plot_date(df_cpu_plot.index, df_cpu_plot['CPU Utilization'], fmt='-', color='#00035b')\n",
    "plt.title('CPU utilization (%)')\n",
    "plt.ylim(-2.5, 102.5)\n",
    "plt.grid(linestyle=':')\n",
    "\n",
    "date_list = pd.date_range(start=df.index[0], end=df.index[-1], periods=7).tolist()\n",
    "plt.xticks(date_list + ['2015-08-20 08:05'], ['', '', '', '', '', '', '', '4:05 PM'])\n",
    "plt.yticks([0.0, 20.0, 40.0, 60.0, 80.0, 100.0], ['0.0', '', '', '', '', '100.0'])\n",
    "plt.axvline('2015-08-20 08:05', color='black', label='4:05 PM', linestyle='--')\n",
    "plt.setp(plt.gca().xaxis.get_majorticklabels(), 'rotation', 0)\n",
    "# plt.savefig('cpu_plot.pdf')\n",
    "plt.show()"
   ]
  },
  {
   "cell_type": "code",
   "execution_count": null,
   "metadata": {
    "pycharm": {
     "name": "#%%\n"
    }
   },
   "outputs": [],
   "source": [
    "df_mem_plot = df.rolling(10).mean()\n",
    "df_mem_plot = df_mem_plot.iloc[::10, :]\n",
    "\n",
    "plt.plot_date(df_mem_plot.index, df_mem_plot['Memory Utilization'], fmt='-', color='#00035b')\n",
    "plt.title('Memory utilization (%)')\n",
    "plt.ylim(-2.5, 102.5)\n",
    "plt.grid(linestyle=':')\n",
    "\n",
    "date_list = pd.date_range(start=df.index[0], end=df.index[-1], periods=7).tolist()\n",
    "plt.xticks(date_list + ['2015-08-20 07:55'], ['', '', '', '', '', '', '', '3:55 PM'])\n",
    "plt.yticks([0.0, 20.0, 40.0, 60.0, 80.0, 100.0], ['0.0', '', '', '', '', '100.0'])\n",
    "plt.axvline('2015-08-20 07:55', color='black', label='4:05 PM', linestyle='--')\n",
    "plt.setp(plt.gca().xaxis.get_majorticklabels(), 'rotation', 0)\n",
    "# plt.savefig('mem_plot.pdf')\n",
    "plt.show()"
   ]
  },
  {
   "cell_type": "code",
   "execution_count": null,
   "metadata": {},
   "outputs": [],
   "source": []
  },
  {
   "cell_type": "code",
   "execution_count": null,
   "metadata": {},
   "outputs": [],
   "source": []
  },
  {
   "cell_type": "code",
   "execution_count": null,
   "metadata": {},
   "outputs": [],
   "source": []
  }
 ],
 "metadata": {
  "kernelspec": {
   "display_name": "Python [default]",
   "language": "python",
   "name": "python3"
  },
  "language_info": {
   "codemirror_mode": {
    "name": "ipython",
    "version": 3
   },
   "file_extension": ".py",
   "mimetype": "text/x-python",
   "name": "python",
   "nbconvert_exporter": "python",
   "pygments_lexer": "ipython3",
   "version": "3.6.5"
  }
 },
 "nbformat": 4,
 "nbformat_minor": 2
}
