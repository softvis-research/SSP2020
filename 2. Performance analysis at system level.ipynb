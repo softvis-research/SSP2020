{
 "cells": [
  {
   "cell_type": "markdown",
   "metadata": {},
   "source": [
    "# 2. Performance analysis at system level"
   ]
  },
  {
   "cell_type": "markdown",
   "metadata": {},
   "source": [
    "## Database connection\n",
    "Establish connection to neo4j database with performance data."
   ]
  },
  {
   "cell_type": "code",
   "execution_count": null,
   "metadata": {},
   "outputs": [],
   "source": [
    "import py2neo\n",
    "\n",
    "graph = py2neo.Graph(bolt=True, host='localhost', user='neo4j', password='neo4j')\n"
   ]
  },
  {
   "cell_type": "markdown",
   "metadata": {},
   "source": [
    "## Cypher query\n",
    "Cypher queries are executed to get CPU and memory utilization data. The results are stored in dataframes."
   ]
  },
  {
   "cell_type": "code",
   "execution_count": null,
   "metadata": {
    "scrolled": true
   },
   "outputs": [],
   "source": [
    "import pandas as pd\n",
    "\n",
    "cpu_query =\"\"\"\n",
    "MATCH (n:Directory)-[:CONTAINS]->(c:CpuUtilizationRecord { hostname: 'middletier2' })\n",
    "WHERE n.fileName =~ '.*/1-MemoryLeak-5/kieker-logs/kieker-20150820-064855519-UTC-middletier2-KIEKER'\n",
    "RETURN c.timestamp AS , c.cpuID, c.totalUtilization\n",
    "ORDER BY c.timestamp\n",
    "\"\"\"\n",
    "df = pd.DataFrame(graph.run(cpu_query).data())\n",
    "df = df.rename(columns={\"c.timestamp\": \"Timestamp\",\n",
    "                        \"c.cpuID\": \"CPU ID\",\n",
    "                        \"c.totalUtilization\": \"CPU Utilization\"})\n",
    "\n",
    "mem_query =\"\"\"\n",
    "MATCH (n:Directory)-[:CONTAINS]->(m:MemSwapUsageRecord { hostname: 'middletier2' })\n",
    "WHERE n.fileName =~ '.*/1-MemoryLeak-5/kieker-logs/kieker-20150820-064855519-UTC-middletier2-KIEKER'\n",
    "RETURN m.timestamp, toFloat(m.memUsed) / toFloat(m.memTotal)\n",
    "ORDER BY m.timestamp\n",
    "\"\"\"\n",
    "df_mem = pd.DataFrame(graph.run(mem_query).data())\n",
    "df_mem = df_mem.rename(columns={\"m.timestamp\": \"Timestamp\",\n",
    "                                \"toFloat(m.memUsed) / toFloat(m.memTotal)\": \"Memory Utilization\"})"
   ]
  },
  {
   "cell_type": "markdown",
   "metadata": {},
   "source": [
    "## Analaysis and Visualization\n",
    "The data is analyzed, merged and visualized. The timestamps only differ in the microseconds.\n",
    "\n",
    "They are rounded to the nearest second to allow the merge of the dataframes."
   ]
  },
  {
   "cell_type": "code",
   "execution_count": null,
   "metadata": {
    "pycharm": {
     "name": "#%%\n"
    }
   },
   "outputs": [],
   "source": [
    "df['Timestamp'] = pd.to_datetime(df['Timestamp'])\n",
    "df['Timestamp'] = df['Timestamp'].dt.round('1s')\n",
    "df['CPU ID'] = pd.to_numeric(df['CPU ID'])\n",
    "df = df.groupby(['Timestamp']).mean()\n",
    "df = df.drop('CPU ID', 1)\n",
    "\n",
    "df_mem['Timestamp'] = pd.to_datetime(df_mem['Timestamp'])\n",
    "df_mem['Timestamp'] = df_mem['Timestamp'].dt.round('1s')\n",
    "df_mem.set_index('Timestamp', inplace=True)\n",
    "\n",
    "df = df.merge(df_mem, left_on='Timestamp', right_on='Timestamp')"
   ]
  },
  {
   "cell_type": "code",
   "execution_count": null,
   "metadata": {},
   "outputs": [],
   "source": [
    "df.head()"
   ]
  },
  {
   "cell_type": "code",
   "execution_count": null,
   "metadata": {
    "pycharm": {
     "name": "#%%\n"
    }
   },
   "outputs": [],
   "source": [
    "from IPython.display import display, HTML\n",
    "\n",
    "base_html = \"\"\"\n",
    "<!DOCTYPE html>\n",
    "<html>\n",
    "  <head>\n",
    "  <script type=\"text/javascript\" src=\"http://kozea.github.com/pygal.js/javascripts/svg.jquery.js\"></script>\n",
    "  <script type=\"text/javascript\" src=\"https://kozea.github.io/pygal.js/2.0.x/pygal-tooltips.min.js\"\"></script>\n",
    "  </head>\n",
    "  <body>\n",
    "    <figure>\n",
    "      {rendered_chart}\n",
    "    </figure>\n",
    "  </body>\n",
    "</html>\n",
    "\"\"\""
   ]
  },
  {
   "cell_type": "code",
   "execution_count": null,
   "metadata": {
    "pycharm": {
     "name": "#%%\n"
    }
   },
   "outputs": [],
   "source": [
    "import pygal as pg\n",
    "\n",
    "line_chart = pg.Line()\n",
    "line_chart.title = 'System Measurements'\n",
    "line_chart.y_labels = .1, .2, .3, .4, .5, .6, .7, .8, .9, 1.0\n",
    "line_chart.add('Core Utilization', pd.Series(df['CPU Utilization']))\n",
    "line_chart.add('Memory Utilization in %', pd.Series(df['Memory Utilization']))\n",
    "\n",
    "display(HTML(base_html.format(rendered_chart=line_chart.render(is_unicode=True))))\n"
   ]
  }
 ],
 "metadata": {
  "kernelspec": {
   "display_name": "Python [conda env:SVIS]",
   "language": "python",
   "name": "conda-env-SVIS-py"
  },
  "language_info": {
   "codemirror_mode": {
    "name": "ipython",
    "version": 3
   },
   "file_extension": ".py",
   "mimetype": "text/x-python",
   "name": "python",
   "nbconvert_exporter": "python",
   "pygments_lexer": "ipython3",
   "version": "3.6.5"
  }
 },
 "nbformat": 4,
 "nbformat_minor": 2
}
